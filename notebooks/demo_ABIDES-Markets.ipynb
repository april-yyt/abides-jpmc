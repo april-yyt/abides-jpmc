{
 "cells": [
  {
   "cell_type": "markdown",
   "metadata": {},
   "source": [
    "This is a tutorial for basic use of abides_markets simulation.\n",
    "It uses the simulator directly without the OpenAI Gym interface"
   ]
  },
  {
   "cell_type": "code",
   "execution_count": 1,
   "metadata": {},
   "outputs": [],
   "source": [
    "import numpy as np\n",
    "import pandas as pd\n",
    "from matplotlib import pyplot as plt\n",
    "\n",
    "from abides_core import abides\n",
    "from abides_core.utils import parse_logs_df, ns_date, str_to_ns, fmt_ts\n",
    "from abides_markets.configs import rmsc04"
   ]
  },
  {
   "cell_type": "markdown",
   "metadata": {},
   "source": [
    "## Build runnable configuration"
   ]
  },
  {
   "cell_type": "markdown",
   "metadata": {},
   "source": [
    "Here we are generating/building a config from the config file rmsc04. \n",
    "The config object is a dictionnary containing key elements like, start time, end time, agents to be used, latency and computation delay models."
   ]
  },
  {
   "cell_type": "code",
   "execution_count": 2,
   "metadata": {
    "scrolled": false
   },
   "outputs": [],
   "source": [
    "config = rmsc04.build_config()"
   ]
  },
  {
   "cell_type": "code",
   "execution_count": 3,
   "metadata": {},
   "outputs": [
    {
     "data": {
      "text/plain": [
       "dict_keys(['seed', 'start_time', 'stop_time', 'agents', 'agent_latency_model', 'default_computation_delay', 'custom_properties', 'random_state_kernel', 'stdout_log_level'])"
      ]
     },
     "execution_count": 3,
     "metadata": {},
     "output_type": "execute_result"
    }
   ],
   "source": [
    "config.keys()"
   ]
  },
  {
   "cell_type": "markdown",
   "metadata": {},
   "source": [
    "## Running simulation"
   ]
  },
  {
   "cell_type": "markdown",
   "metadata": {},
   "source": [
    "Once the config is ready it can be run using the abides runner function.\n",
    "It instanciates a simulation kernel, runs the configuration and returns an end_state that mostly contains pointers to the different agent objects.\n",
    "The agents are in their final state, their internal variables can be accessed to extract informations of interests like logs."
   ]
  },
  {
   "cell_type": "code",
   "execution_count": 4,
   "metadata": {
    "scrolled": false
   },
   "outputs": [
    {
     "name": "stderr",
     "output_type": "stream",
     "text": [
      "[93882] INFO abides Simulation Start Time: 2023-02-25 17:21:14.838738\n",
      "[93882] INFO abides_core.kernel --- Simulation time: 2021-02-05 00:00:00, messages processed: 0, wallclock elapsed: 0.00s ---\n",
      "[93882] INFO abides_core.kernel Event Queue elapsed: 0:00:01.612854, messages: 44,386, messages per second: 27520.2\n",
      "[93882] INFO abides_core.kernel Mean ending value by agent type:\n",
      "[93882] INFO abides_core.kernel NoiseAgent: -96\n",
      "[93882] INFO abides_core.kernel ValueAgent: 1168\n",
      "[93882] INFO abides_core.kernel AdaptivePOVMarketMakerAgent: -13981\n",
      "[93882] INFO abides_core.kernel MomentumAgent: 377\n",
      "[93882] INFO abides_core.kernel Simulation ending!\n",
      "[93882] INFO abides Simulation End Time: 2023-02-25 17:21:17.241232\n",
      "[93882] INFO abides Time taken to run simulation: 0:00:02.402494\n"
     ]
    }
   ],
   "source": [
    "end_state = abides.run( config )"
   ]
  },
  {
   "cell_type": "markdown",
   "metadata": {},
   "source": [
    "## Retrieving results from end_state"
   ]
  },
  {
   "cell_type": "markdown",
   "metadata": {},
   "source": [
    "By convention in abides_markets configuration the first agent is the exchange agent. \n",
    "It contains an order_book. By default it logs its history."
   ]
  },
  {
   "cell_type": "code",
   "execution_count": 5,
   "metadata": {},
   "outputs": [],
   "source": [
    "order_book = end_state[\"agents\"][0].order_books[\"ABM\"]"
   ]
  },
  {
   "cell_type": "markdown",
   "metadata": {},
   "source": [
    "### Order book history L1"
   ]
  },
  {
   "cell_type": "markdown",
   "metadata": {},
   "source": [
    "L1 data snapshots for every tick can be extracted\n",
    "( best bid and ask price and quantity )"
   ]
  },
  {
   "cell_type": "code",
   "execution_count": 8,
   "metadata": {},
   "outputs": [],
   "source": [
    "L1 = order_book.get_L1_snapshots()"
   ]
  },
  {
   "cell_type": "markdown",
   "metadata": {},
   "source": [
    "Here we plot the time series of the best bid and best ask price thoughout the simulation"
   ]
  },
  {
   "cell_type": "code",
   "execution_count": 11,
   "metadata": {},
   "outputs": [
    {
     "data": {
      "image/png": "[encoded data removed]",
      "text/plain": [
       "<Figure size 432x288 with 1 Axes>"
      ]
     },
     "metadata": {
      "needs_background": "light"
     },
     "output_type": "display_data"
    }
   ],
   "source": [
    "best_bids = pd.DataFrame(L1[\"best_bids\"],columns=[\"time\",\"price\",\"qty\"])\n",
    "best_asks = pd.DataFrame(L1[\"best_asks\"],columns=[\"time\",\"price\",\"qty\"])\n",
    "\n",
    "## All times are in ns from 1970, remove the date component to put them in ns from midnight\n",
    "best_bids[\"time\"] = best_bids[\"time\"].apply( lambda x: x - ns_date(x) )\n",
    "best_asks[\"time\"] = best_asks[\"time\"].apply( lambda x: x - ns_date(x) )\n",
    "\n",
    "plt.plot(best_bids.time,best_bids.price)\n",
    "plt.plot(best_asks.time,best_asks.price)\n",
    "\n",
    "band = 100\n",
    "plt.ylim(100_000-band,100_000+band)\n",
    "\n",
    "time_mesh = np.arange(\n",
    "    str_to_ns(\"09:30:00\"),\n",
    "    str_to_ns(\"10:10:00\"),\n",
    "    1e9*60*10\n",
    ")\n",
    "_=plt.xticks(time_mesh, [ fmt_ts(time).split(\" \")[1] for time in time_mesh], rotation=60 )"
   ]
  },
  {
   "cell_type": "code",
   "execution_count": 26,
   "metadata": {},
   "outputs": [
    {
     "data": {
      "text/html": [
       "<div>\n",
       "<style scoped>\n",
       "    .dataframe tbody tr th:only-of-type {\n",
       "        vertical-align: middle;\n",
       "    }\n",
       "\n",
       "    .dataframe tbody tr th {\n",
       "        vertical-align: top;\n",
       "    }\n",
       "\n",
       "    .dataframe thead th {\n",
       "        text-align: right;\n",
       "    }\n",
       "</style>\n",
       "<table border=\"1\" class=\"dataframe\">\n",
       "  <thead>\n",
       "    <tr style=\"text-align: right;\">\n",
       "      <th></th>\n",
       "      <th>time</th>\n",
       "      <th>best_ask</th>\n",
       "      <th>qty_ask</th>\n",
       "      <th>best_bid</th>\n",
       "      <th>qty_bid</th>\n",
       "      <th>mid_price</th>\n",
       "      <th>mid_price_move</th>\n",
       "      <th>spread</th>\n",
       "      <th>misbalance</th>\n",
       "      <th>imbalance</th>\n",
       "      <th>return</th>\n",
       "      <th>gain</th>\n",
       "      <th>loss</th>\n",
       "    </tr>\n",
       "  </thead>\n",
       "  <tbody>\n",
       "    <tr>\n",
       "      <th>0</th>\n",
       "      <td>3.423187e+13</td>\n",
       "      <td>99978.0</td>\n",
       "      <td>100.0</td>\n",
       "      <td>99977</td>\n",
       "      <td>98</td>\n",
       "      <td>99977.5</td>\n",
       "      <td>NaN</td>\n",
       "      <td>1.0</td>\n",
       "      <td>2.0</td>\n",
       "      <td>0.494949</td>\n",
       "      <td>NaN</td>\n",
       "      <td>0</td>\n",
       "      <td>0</td>\n",
       "    </tr>\n",
       "    <tr>\n",
       "      <th>1</th>\n",
       "      <td>3.424655e+13</td>\n",
       "      <td>99990.0</td>\n",
       "      <td>214.0</td>\n",
       "      <td>99983</td>\n",
       "      <td>15</td>\n",
       "      <td>99986.5</td>\n",
       "      <td>9.0</td>\n",
       "      <td>7.0</td>\n",
       "      <td>199.0</td>\n",
       "      <td>0.065502</td>\n",
       "      <td>1.00009</td>\n",
       "      <td>9.0</td>\n",
       "      <td>0</td>\n",
       "    </tr>\n",
       "    <tr>\n",
       "      <th>2</th>\n",
       "      <td>3.424655e+13</td>\n",
       "      <td>99990.0</td>\n",
       "      <td>214.0</td>\n",
       "      <td>99983</td>\n",
       "      <td>15</td>\n",
       "      <td>99986.5</td>\n",
       "      <td>0.0</td>\n",
       "      <td>7.0</td>\n",
       "      <td>199.0</td>\n",
       "      <td>0.065502</td>\n",
       "      <td>1.0</td>\n",
       "      <td>0</td>\n",
       "      <td>0</td>\n",
       "    </tr>\n",
       "    <tr>\n",
       "      <th>3</th>\n",
       "      <td>3.424655e+13</td>\n",
       "      <td>99989.0</td>\n",
       "      <td>27.0</td>\n",
       "      <td>99983</td>\n",
       "      <td>15</td>\n",
       "      <td>99986.0</td>\n",
       "      <td>-0.5</td>\n",
       "      <td>6.0</td>\n",
       "      <td>12.0</td>\n",
       "      <td>0.357143</td>\n",
       "      <td>0.999995</td>\n",
       "      <td>0</td>\n",
       "      <td>0.5</td>\n",
       "    </tr>\n",
       "    <tr>\n",
       "      <th>4</th>\n",
       "      <td>3.424655e+13</td>\n",
       "      <td>99989.0</td>\n",
       "      <td>27.0</td>\n",
       "      <td>99983</td>\n",
       "      <td>15</td>\n",
       "      <td>99986.0</td>\n",
       "      <td>0.0</td>\n",
       "      <td>6.0</td>\n",
       "      <td>12.0</td>\n",
       "      <td>0.357143</td>\n",
       "      <td>1.0</td>\n",
       "      <td>0</td>\n",
       "      <td>0</td>\n",
       "    </tr>\n",
       "    <tr>\n",
       "      <th>...</th>\n",
       "      <td>...</td>\n",
       "      <td>...</td>\n",
       "      <td>...</td>\n",
       "      <td>...</td>\n",
       "      <td>...</td>\n",
       "      <td>...</td>\n",
       "      <td>...</td>\n",
       "      <td>...</td>\n",
       "      <td>...</td>\n",
       "      <td>...</td>\n",
       "      <td>...</td>\n",
       "      <td>...</td>\n",
       "      <td>...</td>\n",
       "    </tr>\n",
       "    <tr>\n",
       "      <th>506</th>\n",
       "      <td>3.598750e+13</td>\n",
       "      <td>100056.0</td>\n",
       "      <td>580.0</td>\n",
       "      <td>100055</td>\n",
       "      <td>1137</td>\n",
       "      <td>100055.5</td>\n",
       "      <td>0.0</td>\n",
       "      <td>1.0</td>\n",
       "      <td>-557.0</td>\n",
       "      <td>0.662202</td>\n",
       "      <td>1.0</td>\n",
       "      <td>0</td>\n",
       "      <td>0</td>\n",
       "    </tr>\n",
       "    <tr>\n",
       "      <th>507</th>\n",
       "      <td>3.599885e+13</td>\n",
       "      <td>100057.0</td>\n",
       "      <td>187.0</td>\n",
       "      <td>100055</td>\n",
       "      <td>1037</td>\n",
       "      <td>100056.0</td>\n",
       "      <td>0.5</td>\n",
       "      <td>2.0</td>\n",
       "      <td>-850.0</td>\n",
       "      <td>0.847222</td>\n",
       "      <td>1.000005</td>\n",
       "      <td>0.5</td>\n",
       "      <td>0</td>\n",
       "    </tr>\n",
       "    <tr>\n",
       "      <th>508</th>\n",
       "      <td>3.599885e+13</td>\n",
       "      <td>100057.0</td>\n",
       "      <td>187.0</td>\n",
       "      <td>100056</td>\n",
       "      <td>385</td>\n",
       "      <td>100056.5</td>\n",
       "      <td>0.5</td>\n",
       "      <td>1.0</td>\n",
       "      <td>-198.0</td>\n",
       "      <td>0.673077</td>\n",
       "      <td>1.000005</td>\n",
       "      <td>0.5</td>\n",
       "      <td>0</td>\n",
       "    </tr>\n",
       "    <tr>\n",
       "      <th>509</th>\n",
       "      <td>3.599885e+13</td>\n",
       "      <td>100057.0</td>\n",
       "      <td>187.0</td>\n",
       "      <td>100055</td>\n",
       "      <td>1037</td>\n",
       "      <td>100056.0</td>\n",
       "      <td>-0.5</td>\n",
       "      <td>2.0</td>\n",
       "      <td>-850.0</td>\n",
       "      <td>0.847222</td>\n",
       "      <td>0.999995</td>\n",
       "      <td>0</td>\n",
       "      <td>0.5</td>\n",
       "    </tr>\n",
       "    <tr>\n",
       "      <th>510</th>\n",
       "      <td>3.599885e+13</td>\n",
       "      <td>100057.0</td>\n",
       "      <td>187.0</td>\n",
       "      <td>100056</td>\n",
       "      <td>385</td>\n",
       "      <td>100056.5</td>\n",
       "      <td>0.5</td>\n",
       "      <td>1.0</td>\n",
       "      <td>-198.0</td>\n",
       "      <td>0.673077</td>\n",
       "      <td>1.000005</td>\n",
       "      <td>0.5</td>\n",
       "      <td>0</td>\n",
       "    </tr>\n",
       "  </tbody>\n",
       "</table>\n",
       "<p>511 rows × 13 columns</p>\n",
       "</div>"
      ],
      "text/plain": [
       "             time  best_ask  qty_ask best_bid qty_bid mid_price  \\\n",
       "0    3.423187e+13   99978.0    100.0    99977      98   99977.5   \n",
       "1    3.424655e+13   99990.0    214.0    99983      15   99986.5   \n",
       "2    3.424655e+13   99990.0    214.0    99983      15   99986.5   \n",
       "3    3.424655e+13   99989.0     27.0    99983      15   99986.0   \n",
       "4    3.424655e+13   99989.0     27.0    99983      15   99986.0   \n",
       "..            ...       ...      ...      ...     ...       ...   \n",
       "506  3.598750e+13  100056.0    580.0   100055    1137  100055.5   \n",
       "507  3.599885e+13  100057.0    187.0   100055    1037  100056.0   \n",
       "508  3.599885e+13  100057.0    187.0   100056     385  100056.5   \n",
       "509  3.599885e+13  100057.0    187.0   100055    1037  100056.0   \n",
       "510  3.599885e+13  100057.0    187.0   100056     385  100056.5   \n",
       "\n",
       "    mid_price_move spread misbalance imbalance    return gain loss  \n",
       "0              NaN    1.0        2.0  0.494949       NaN    0    0  \n",
       "1              9.0    7.0      199.0  0.065502   1.00009  9.0    0  \n",
       "2              0.0    7.0      199.0  0.065502       1.0    0    0  \n",
       "3             -0.5    6.0       12.0  0.357143  0.999995    0  0.5  \n",
       "4              0.0    6.0       12.0  0.357143       1.0    0    0  \n",
       "..             ...    ...        ...       ...       ...  ...  ...  \n",
       "506            0.0    1.0     -557.0  0.662202       1.0    0    0  \n",
       "507            0.5    2.0     -850.0  0.847222  1.000005  0.5    0  \n",
       "508            0.5    1.0     -198.0  0.673077  1.000005  0.5    0  \n",
       "509           -0.5    2.0     -850.0  0.847222  0.999995    0  0.5  \n",
       "510            0.5    1.0     -198.0  0.673077  1.000005  0.5    0  \n",
       "\n",
       "[511 rows x 13 columns]"
      ]
     },
     "execution_count": 26,
     "metadata": {},
     "output_type": "execute_result"
    }
   ],
   "source": [
    "df_merged = pd.merge(best_asks,best_bids,on='time')\n",
    "df_merged['mid_price'] = (df_merged['price_x']+df_merged['price_y'])/2\n",
    "df_merged['mid_price_move'] = df_merged['mid_price'] - df_merged['mid_price'].shift(1)\n",
    "df_merged['spread'] = df_merged['price_x']-df_merged['price_y']\n",
    "df_merged['misbalance'] = df_merged['qty_x']-df_merged['qty_y']\n",
    "df_merged['imbalance'] = df_merged['qty_y']/(df_merged['qty_x']+df_merged['qty_y'])\n",
    "df_merged['return'] = df_merged['mid_price']/df_merged['mid_price'].shift()\n",
    "\n",
    "df_merged['gain'] = 0\n",
    "df_merged['loss'] = 0\n",
    "df_merged.loc[df_merged['mid_price_move'] < 0, 'loss'] = -1*df_merged['mid_price_move']\n",
    "df_merged.loc[df_merged['mid_price_move'] > 0, 'gain'] = df_merged['mid_price_move']\n",
    "\n",
    "#rename\n",
    "column_map = {'price_x': 'best_ask', 'qty_x': 'qty_ask', 'price_y': 'best_bid', 'qty_y': 'qty_bid'}\n",
    "df_merged = df_merged.rename(columns=column_map)\n",
    "\n",
    "df_merged"
   ]
  },
  {
   "cell_type": "code",
   "execution_count": 14,
   "metadata": {},
   "outputs": [
    {
     "data": {
      "text/plain": [
       "array([3.42e+13, 3.48e+13, 3.54e+13, 3.60e+13])"
      ]
     },
     "execution_count": 14,
     "metadata": {},
     "output_type": "execute_result"
    }
   ],
   "source": [
    "time_mesh"
   ]
  },
  {
   "cell_type": "markdown",
   "metadata": {},
   "source": [
    "### Order book history L2"
   ]
  },
  {
   "cell_type": "markdown",
   "metadata": {},
   "source": [
    "L2 data snapshots for every tick can be extracted\n",
    "( bids and asks price and quantity for every orderbook level. Here max depth logged is a parameter of the simulation and max number of levels we want to retrieve from the orderbook after the simulation is a parameter too)"
   ]
  },
  {
   "cell_type": "code",
   "execution_count": 8,
   "metadata": {},
   "outputs": [],
   "source": [
    "L2 = order_book.get_L2_snapshots(nlevels=10)"
   ]
  },
  {
   "cell_type": "markdown",
   "metadata": {},
   "source": [
    "As an illustration we plot the time series of the fifth best bid price and fifth best ask price throughout the simulation"
   ]
  },
  {
   "cell_type": "code",
   "execution_count": 9,
   "metadata": {},
   "outputs": [
    {
     "data": {
      "image/png": "[encoded data removed]",
      "text/plain": [
       "<Figure size 432x288 with 1 Axes>"
      ]
     },
     "metadata": {
      "needs_background": "light"
     },
     "output_type": "display_data"
    }
   ],
   "source": [
    "## plotting fifth best bid and fifth best ask\n",
    "times = [ t - ns_date(t) for t in L2[\"times\"] ]\n",
    "plt.scatter( times, L2[\"bids\"][:,5,0], s=.5 )\n",
    "plt.scatter( times, L2[\"asks\"][:,5,0], s=.5 )\n",
    "\n",
    "band = 100\n",
    "plt.ylim(100_000-band,100_000+band)\n",
    "\n",
    "_=plt.xticks(time_mesh, [ fmt_ts(time).split(\" \")[1] for time in time_mesh], rotation=60 )"
   ]
  },
  {
   "cell_type": "markdown",
   "metadata": {},
   "source": [
    "### Looking at agents logs"
   ]
  },
  {
   "cell_type": "markdown",
   "metadata": {},
   "source": [
    "All agents can be inspected to retrieve desired information. \n",
    "The utility parse_logs_df for instance provides a quick way to retrieve and aggregate the log variables of each agent in a single dataframe"
   ]
  },
  {
   "cell_type": "code",
   "execution_count": 10,
   "metadata": {},
   "outputs": [],
   "source": [
    "logs_df = parse_logs_df( end_state )"
   ]
  },
  {
   "cell_type": "markdown",
   "metadata": {},
   "source": [
    "#### Histogram of order submission times for noise agents"
   ]
  },
  {
   "cell_type": "markdown",
   "metadata": {},
   "source": [
    "As an illustration we retrieve the submission times of all the orders sent by noise agent and display the histogram of all these times"
   ]
  },
  {
   "cell_type": "code",
   "execution_count": 17,
   "metadata": {},
   "outputs": [
    {
     "data": {
      "image/png": "[encoded data removed]",
      "text/plain": [
       "<Figure size 432x288 with 1 Axes>"
      ]
     },
     "metadata": {
      "needs_background": "light"
     },
     "output_type": "display_data"
    }
   ],
   "source": [
    "plt.hist( logs_df[ (logs_df.agent_type == \"NoiseAgent\") & (logs_df.EventType==\"ORDER_SUBMITTED\") ].EventTime.apply(lambda x: x - ns_date(x) )  )\n",
    "\n",
    "_=plt.xticks(time_mesh, [ fmt_ts(time).split(\" \")[1] for time in time_mesh], rotation=60 )"
   ]
  },
  {
   "cell_type": "markdown",
   "metadata": {},
   "source": [
    "We proceed the same way for value agents as well"
   ]
  },
  {
   "cell_type": "code",
   "execution_count": 18,
   "metadata": {},
   "outputs": [
    {
     "data": {
      "image/png": "[encoded data removed]",
      "text/plain": [
       "<Figure size 432x288 with 1 Axes>"
      ]
     },
     "metadata": {
      "needs_background": "light"
     },
     "output_type": "display_data"
    }
   ],
   "source": [
    "plt.hist( logs_df[ (logs_df.agent_type == \"ValueAgent\") & (logs_df.EventType==\"ORDER_SUBMITTED\") ].EventTime.apply(lambda x: x - ns_date(x) )  )\n",
    "\n",
    "_=plt.xticks(time_mesh, [ fmt_ts(time).split(\" \")[1] for time in time_mesh], rotation=60 )"
   ]
  },
  {
   "cell_type": "code",
   "execution_count": null,
   "metadata": {},
   "outputs": [],
   "source": []
  }
 ],
 "metadata": {
  "kernelspec": {
   "display_name": "base",
   "language": "python",
   "name": "python3"
  },
  "language_info": {
   "codemirror_mode": {
    "name": "ipython",
    "version": 3
   },
   "file_extension": ".py",
   "mimetype": "text/x-python",
   "name": "python",
   "nbconvert_exporter": "python",
   "pygments_lexer": "ipython3",
   "version": "3.9.12"
  },
  "vscode": {
   "interpreter": {
    "hash": "1682e0ed6b7ce7e3bee6c861bd4b8b7274119116153b1528c02bc2dbe3f3d5ea"
   }
  }
 },
 "nbformat": 4,
 "nbformat_minor": 4
}
